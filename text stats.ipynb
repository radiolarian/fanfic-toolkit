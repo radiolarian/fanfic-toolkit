{
 "cells": [
  {
   "cell_type": "code",
   "execution_count": 5,
   "metadata": {
    "collapsed": false
   },
   "outputs": [
    {
     "data": {
      "text/plain": [
       "131072"
      ]
     },
     "execution_count": 5,
     "metadata": {},
     "output_type": "execute_result"
    }
   ],
   "source": [
    "from textstat.textstat import textstat\n",
    "import os\n",
    "import csv\n",
    "import time\n",
    "import operator\n",
    "from collections import Counter\n",
    "import numpy as np\n",
    "import matplotlib.pyplot as plt\n",
    "%matplotlib inline\n",
    "csv.field_size_limit(1000000000)"
   ]
  },
  {
   "cell_type": "code",
   "execution_count": 2,
   "metadata": {
    "collapsed": true
   },
   "outputs": [],
   "source": [
    "path = '/Users/noon/Desktop/new media 190/ao3/AO3Scraper/'\n",
    "csv_names = [f for f in os.listdir(path) if '-fic.csv' in f]\n",
    "csv_names = [f for f in csv_names if 'error' not in f]\n"
   ]
  },
  {
   "cell_type": "code",
   "execution_count": 31,
   "metadata": {
    "collapsed": false
   },
   "outputs": [
    {
     "ename": "NameError",
     "evalue": "name 'readability_consensus' is not defined",
     "output_type": "error",
     "traceback": [
      "\u001b[0;31m---------------------------------------------------------------------------\u001b[0m",
      "\u001b[0;31mNameError\u001b[0m                                 Traceback (most recent call last)",
      "\u001b[0;32m<ipython-input-31-244cd1fe4fdb>\u001b[0m in \u001b[0;36m<module>\u001b[0;34m()\u001b[0m\n\u001b[0;32m----> 1\u001b[0;31m \u001b[0mreadability_consensus\u001b[0m\u001b[0;34m(\u001b[0m\u001b[0;34m\"hello! my name is bob.\"\u001b[0m\u001b[0;34m)\u001b[0m\u001b[0;34m\u001b[0m\u001b[0m\n\u001b[0m",
      "\u001b[0;31mNameError\u001b[0m: name 'readability_consensus' is not defined"
     ]
    }
   ],
   "source": [
    "readability_consensus(\"hello! my name is bob.\")"
   ]
  },
  {
   "cell_type": "code",
   "execution_count": 8,
   "metadata": {
    "collapsed": false
   },
   "outputs": [
    {
     "name": "stdout",
     "output_type": "stream",
     "text": [
      "working on  camerica-fic.csv\n",
      "Error(ASyPW): Number of words are zero, cannot divide\n",
      "unsupported operand type(s) for *: 'float' and 'NoneType' camerica-fic.csv\n",
      "---------\n",
      "for fandom  camerica-fic.csv  final level  5.31376518219  ease  81.5391902834\n",
      "working on  deathnote-fic.csv\n",
      "---------\n",
      "for fandom  deathnote-fic.csv  final level  5.59917355372  ease  80.790785124\n",
      "working on  dragonage-fic.csv\n",
      "---------\n",
      "for fandom  dragonage-fic.csv  final level  5.372  ease  80.90004\n",
      "working on  drwho-fic.csv\n",
      "---------\n",
      "for fandom  drwho-fic.csv  final level  5.08947368421  ease  81.5267611336\n",
      "working on  falloutboy-fic.csv\n",
      "---------\n",
      "for fandom  falloutboy-fic.csv  final level  5.63654618474  ease  81.2263052209\n",
      "working on  free-fic.csv\n",
      "---------\n",
      "for fandom  free-fic.csv  final level  6.2438247012  ease  76.8557768924\n",
      "working on  got-fic.csv\n",
      "---------\n",
      "for fandom  got-fic.csv  final level  5.29879032258  ease  82.3839516129\n",
      "working on  gravityfalls-fic.csv\n",
      "---------\n",
      "for fandom  gravityfalls-fic.csv  final level  5.00637450199  ease  82.5821912351\n",
      "working on  haikyuu-fic.csv\n",
      "---------\n",
      "for fandom  haikyuu-fic.csv  final level  6.356  ease  75.4952\n",
      "working on  hanni-fic.csv\n",
      "---------\n",
      "for fandom  hanni-fic.csv  final level  5.6832  ease  79.30672\n",
      "working on  hetalia-fic.csv\n",
      "Error(ASyPW): Number of words are zero, cannot divide\n",
      "unsupported operand type(s) for *: 'float' and 'NoneType' hetalia-fic.csv\n",
      "---------\n",
      "for fandom  hetalia-fic.csv  final level  5.89879518072  ease  78.1747791165\n",
      "working on  hhamilton-fic.csv\n",
      "---------\n",
      "for fandom  hhamilton-fic.csv  final level  8.96882591093  ease  69.7582995951\n",
      "working on  hobbit-fic.csv\n",
      "---------\n",
      "for fandom  hobbit-fic.csv  final level  6.00927419355  ease  79.0360483871\n",
      "working on  knb-fic.csv\n",
      "Error(ASyPW): Number of words are zero, cannot divide\n",
      "unsupported operand type(s) for *: 'float' and 'NoneType' knb-fic.csv\n",
      "---------\n",
      "for fandom  knb-fic.csv  final level  6.51927710843  ease  74.0625702811\n",
      "working on  korra-fic.csv\n",
      "---------\n",
      "for fandom  korra-fic.csv  final level  5.40281124498  ease  79.7498795181\n",
      "working on  kpop-fic.csv\n",
      "---------\n",
      "for fandom  kpop-fic.csv  final level  5.93442622951  ease  79.7379918033\n",
      "working on  merlin-fic.csv\n",
      "---------\n",
      "for fandom  merlin-fic.csv  final level  5.66972111554  ease  80.0574103586\n",
      "working on  mob-fic.csv\n",
      "---------\n",
      "for fandom  mob-fic.csv  final level  5.27032520325  ease  80.9457723577\n",
      "working on  naruto-fic.csv\n",
      "Error(ASyPW): Number of words are zero, cannot divide\n",
      "unsupported operand type(s) for *: 'float' and 'NoneType' naruto-fic.csv\n",
      "---------\n",
      "for fandom  naruto-fic.csv  final level  6.57287449393  ease  73.6572064777\n",
      "working on  ouat-fic.csv\n",
      "---------\n",
      "for fandom  ouat-fic.csv  final level  5.45322580645  ease  80.3931048387\n",
      "working on  rpf-fic.csv\n",
      "---------\n",
      "for fandom  rpf-fic.csv  final level  5.6  ease  80.83092\n",
      "working on  shameless-fic.csv\n",
      "---------\n",
      "for fandom  shameless-fic.csv  final level  5.12226720648  ease  83.329757085\n",
      "working on  shield-fic.csv\n",
      "Error(ASyPW): Number of words are zero, cannot divide\n",
      "unsupported operand type(s) for *: 'float' and 'NoneType' shield-fic.csv\n",
      "---------\n",
      "for fandom  shield-fic.csv  final level  5.14534412955  ease  82.3298380567\n",
      "working on  spn-fic.csv\n",
      "---------\n",
      "for fandom  spn-fic.csv  final level  5.10725806452  ease  83.0675806452\n",
      "working on  startrek-fic.csv\n",
      "---------\n",
      "for fandom  startrek-fic.csv  final level  5.40887096774  ease  80.1885080645\n",
      "working on  starwars-fic.csv\n",
      "---------\n",
      "for fandom  starwars-fic.csv  final level  5.1524  ease  82.72068\n",
      "working on  stevenuniverse-fic.csv\n",
      "Error(ASyPW): Number of words are zero, cannot divide\n",
      "unsupported operand type(s) for *: 'float' and 'NoneType' stevenuniverse-fic.csv\n",
      "---------\n",
      "for fandom  stevenuniverse-fic.csv  final level  5.37510040161  ease  80.1275502008\n",
      "working on  teenwolf-fic.csv\n",
      "---------\n",
      "for fandom  teenwolf-fic.csv  final level  5.396  ease  81.03936\n",
      "working on  torchwood-fic.csv\n",
      "Error(ASyPW): Number of words are zero, cannot divide\n",
      "unsupported operand type(s) for *: 'float' and 'NoneType' torchwood-fic.csv\n",
      "---------\n",
      "for fandom  torchwood-fic.csv  final level  5.34274193548  ease  81.0945967742\n",
      "working on  twd-fic.csv\n",
      "---------\n",
      "for fandom  twd-fic.csv  final level  5.34462151394  ease  82.8444621514\n",
      "working on  undertale-fic.csv\n",
      "---------\n",
      "for fandom  undertale-fic.csv  final level  4.7136  ease  83.79236\n",
      "working on  vgrpf-fic.csv\n",
      "---------\n",
      "for fandom  vgrpf-fic.csv  final level  4.9512  ease  83.85096\n",
      "working on  yurionice-fic.csv\n",
      "---------\n",
      "for fandom  yurionice-fic.csv  final level  5.7268  ease  79.42304\n",
      "working on  zootopia-fic.csv\n",
      "---------\n",
      "for fandom  zootopia-fic.csv  final level  4.89032258065  ease  82.9283064516\n"
     ]
    }
   ],
   "source": [
    "reading_levels = {}\n",
    "reading_eases = {}\n",
    "for csv_name in csv_names:\n",
    "    print 'working on ', csv_name\n",
    "    avg_reading_level = 0\n",
    "    avg_reading_ease = 0\n",
    "    no_fics = 0\n",
    "    with open(path+csv_name, 'rb') as csvfile:\n",
    "        rd = csv.reader(csvfile, delimiter=',', quotechar='\"')\n",
    "        for row in rd:\n",
    "            try:\n",
    "                fic_text = row[-1]\n",
    "                reading_level = textstat.flesch_kincaid_grade(fic_text)\n",
    "    #             print 'reading level is ', reading_level\n",
    "                reading_ease = textstat.flesch_reading_ease(fic_text)\n",
    "    #             print 'reading ease is ', reading_ease\n",
    "                avg_reading_level += reading_level\n",
    "                avg_reading_ease += reading_ease\n",
    "                no_fics += 1\n",
    "            except TypeError as e:\n",
    "                print e, csv_name\n",
    "                continue \n",
    "        print '---------'\n",
    "        fin_lvl = avg_reading_level * 1.0 / no_fics\n",
    "        fin_ease = avg_reading_ease * 1.0 / no_fics\n",
    "        print 'for fandom ', csv_name, ' final level ', fin_lvl, ' ease ', fin_ease\n",
    "        reading_levels[csv_name] = fin_lvl\n",
    "        reading_eases[csv_name] = fin_ease"
   ]
  },
  {
   "cell_type": "code",
   "execution_count": 9,
   "metadata": {
    "collapsed": true
   },
   "outputs": [],
   "source": [
    "cat_colors = {\n",
    "    'M/M' : '#FF5E00',\n",
    "    'F/F' : '#F252E0',\n",
    "    'F/M' : '#3E8BF0',\n",
    "    'Gen' : '#7070D3',\n",
    "    'Other' : '#353333',\n",
    "    'Multi' : '#7070D3',\n",
    "}\n",
    "fandom_categories = {\n",
    "    'yurionice' : 'anime',\n",
    "    'zootopia' : 'animated',\n",
    "    'sherlock' : 'television',\n",
    "    'hanni' : 'television',\n",
    "    'ouat' : 'television',\n",
    "    'korra' : 'animated',\n",
    "    'merlin' : 'television',\n",
    "    'shameless' : 'television',\n",
    "    'mob' : 'anime',\n",
    "    'startrek' : 'television',\n",
    "    'onedirection' : 'real people',\n",
    "    'twd' : 'television',\n",
    "    'camerica' : 'comics',\n",
    "    'spn' : 'television',\n",
    "    'rpf' : 'real people',\n",
    "    'haikyuu' : 'anime',\n",
    "    'snk' : 'anime',\n",
    "    'free' : 'anime',\n",
    "    'deathnote' : 'anime',\n",
    "    'marvel' : 'comics',\n",
    "    'vgrpf' : 'real people',\n",
    "    'hobbit' : 'movies',\n",
    "    'starwars' : 'movies',\n",
    "    'kpop' : 'real people',\n",
    "    'hp' : 'literature',\n",
    "    'hetalia' : 'anime',\n",
    "    'falloutboy' : 'real people',\n",
    "    'torchwood' : 'television',\n",
    "    'hhamilton' : 'literature',\n",
    "    'naruto' : 'anime',\n",
    "    'drwho' : 'television',\n",
    "    'stevenuniverse' : 'animated',\n",
    "    'knb' : 'anime',\n",
    "    'homestuck' : 'videogames/internet',\n",
    "    'got' : 'television',\n",
    "    'dragonage' : 'videogames/internet',\n",
    "    'undertale' : 'videogames/internet',\n",
    "    'shield' : 'comics',\n",
    "    'teenwolf' : 'television',\n",
    "    'gravityfalls' : 'animated'\n",
    "}\n",
    "overall_categories = {\n",
    "    'anime' : '#ff002a',\n",
    "    'television' : '#BEF115',\n",
    "    'movies' : '#1DF216',\n",
    "    'animated' : '#F2A116',\n",
    "    'real people' : '#BF16F2',\n",
    "    'comics' : '#1667F2',\n",
    "    'literature' : '#4AC276',\n",
    "    'videogames/internet' : '#16EBF2',\n",
    "}"
   ]
  },
  {
   "cell_type": "code",
   "execution_count": 10,
   "metadata": {
    "collapsed": true
   },
   "outputs": [],
   "source": [
    "def plot_graph(slist, title):\n",
    "    names = [s[0][:-8] for s in slist]\n",
    "    val = [s[1] for s in slist]\n",
    "    x_pos = np.arange(len(names)) \n",
    "    barlist = plt.bar(x_pos, val, align='center')\n",
    "    for bar, fandom in zip(barlist, names):\n",
    "        cat = fandom_categories[fandom]\n",
    "        color = overall_categories[cat]\n",
    "        bar.set_color(color)\n",
    "    plt.xticks(x_pos, names, rotation=90) \n",
    "    plt.title(title)\n",
    "    plt.show()"
   ]
  },
  {
   "cell_type": "code",
   "execution_count": 14,
   "metadata": {
    "collapsed": false
   },
   "outputs": [
    {
     "data": {
      "image/png": "[encoded data removed]",
      "text/plain": [
       "<matplotlib.figure.Figure at 0x10b193b10>"
      ]
     },
     "metadata": {},
     "output_type": "display_data"
    }
   ],
   "source": [
    "plot_graph(levels_sorted, 'flesch kincaid grade level')"
   ]
  },
  {
   "cell_type": "code",
   "execution_count": 15,
   "metadata": {
    "collapsed": false
   },
   "outputs": [
    {
     "data": {
      "image/png": "[encoded data removed]",
      "text/plain": [
       "<matplotlib.figure.Figure at 0x10b26e510>"
      ]
     },
     "metadata": {},
     "output_type": "display_data"
    }
   ],
   "source": [
    "plot_graph(eases_sorted, 'flesch kincaid reading ease')"
   ]
  },
  {
   "cell_type": "code",
   "execution_count": 12,
   "metadata": {
    "collapsed": false
   },
   "outputs": [
    {
     "name": "stdout",
     "output_type": "stream",
     "text": [
      "[('undertale-fic.csv', 4.7136000000000005), ('zootopia-fic.csv', 4.890322580645161), ('vgrpf-fic.csv', 4.951200000000003), ('gravityfalls-fic.csv', 5.006374501992033), ('drwho-fic.csv', 5.089473684210532), ('spn-fic.csv', 5.1072580645161265), ('shameless-fic.csv', 5.122267206477732), ('shield-fic.csv', 5.145344129554658), ('starwars-fic.csv', 5.152400000000001), ('mob-fic.csv', 5.270325203252035), ('got-fic.csv', 5.298790322580646), ('camerica-fic.csv', 5.313765182186237), ('torchwood-fic.csv', 5.342741935483871), ('twd-fic.csv', 5.344621513944226), ('dragonage-fic.csv', 5.372000000000001), ('stevenuniverse-fic.csv', 5.375100401606426), ('teenwolf-fic.csv', 5.3960000000000035), ('korra-fic.csv', 5.402811244979929), ('startrek-fic.csv', 5.408870967741935), ('ouat-fic.csv', 5.453225806451609), ('deathnote-fic.csv', 5.599173553719007), ('rpf-fic.csv', 5.599999999999998), ('falloutboy-fic.csv', 5.636546184738962), ('merlin-fic.csv', 5.669721115537846), ('hanni-fic.csv', 5.683200000000002), ('yurionice-fic.csv', 5.7268), ('hetalia-fic.csv', 5.898795180722886), ('kpop-fic.csv', 5.934426229508201), ('hobbit-fic.csv', 6.009274193548385), ('free-fic.csv', 6.243824701195222), ('haikyuu-fic.csv', 6.356000000000003), ('knb-fic.csv', 6.519277108433733), ('naruto-fic.csv', 6.572874493927121), ('hhamilton-fic.csv', 8.968825910931173)]\n"
     ]
    }
   ],
   "source": [
    "levels_sorted = sorted(reading_levels.items(), key=operator.itemgetter(1))\n",
    "print levels_sorted"
   ]
  },
  {
   "cell_type": "code",
   "execution_count": 13,
   "metadata": {
    "collapsed": false
   },
   "outputs": [
    {
     "name": "stdout",
     "output_type": "stream",
     "text": [
      "[('hhamilton-fic.csv', 69.75829959514168), ('naruto-fic.csv', 73.65720647773277), ('knb-fic.csv', 74.06257028112451), ('haikyuu-fic.csv', 75.49519999999998), ('free-fic.csv', 76.85577689243023), ('hetalia-fic.csv', 78.17477911646587), ('hobbit-fic.csv', 79.03604838709683), ('hanni-fic.csv', 79.30671999999997), ('yurionice-fic.csv', 79.42303999999996), ('kpop-fic.csv', 79.73799180327869), ('korra-fic.csv', 79.74987951807223), ('merlin-fic.csv', 80.05741035856575), ('stevenuniverse-fic.csv', 80.12755020080317), ('startrek-fic.csv', 80.18850806451614), ('ouat-fic.csv', 80.39310483870968), ('deathnote-fic.csv', 80.79078512396691), ('rpf-fic.csv', 80.83091999999999), ('dragonage-fic.csv', 80.90003999999996), ('mob-fic.csv', 80.94577235772347), ('teenwolf-fic.csv', 81.03935999999997), ('torchwood-fic.csv', 81.09459677419353), ('falloutboy-fic.csv', 81.22630522088352), ('drwho-fic.csv', 81.5267611336032), ('camerica-fic.csv', 81.53919028340077), ('shield-fic.csv', 82.32983805668013), ('got-fic.csv', 82.38395161290319), ('gravityfalls-fic.csv', 82.58219123505975), ('starwars-fic.csv', 82.72068000000004), ('twd-fic.csv', 82.84446215139441), ('zootopia-fic.csv', 82.92830645161284), ('spn-fic.csv', 83.06758064516126), ('shameless-fic.csv', 83.32975708502016), ('undertale-fic.csv', 83.79235999999999), ('vgrpf-fic.csv', 83.85095999999994)]\n"
     ]
    }
   ],
   "source": [
    "eases_sorted = sorted(reading_eases.items(), key=operator.itemgetter(1))\n",
    "print eases_sorted"
   ]
  },
  {
   "cell_type": "code",
   "execution_count": 41,
   "metadata": {
    "collapsed": true
   },
   "outputs": [],
   "source": [
    "import nltk"
   ]
  },
  {
   "cell_type": "code",
   "execution_count": 44,
   "metadata": {
    "collapsed": false
   },
   "outputs": [
    {
     "name": "stdout",
     "output_type": "stream",
     "text": [
      "working on  camerica-fic.csv\n",
      "calculating...\n"
     ]
    },
    {
     "ename": "KeyboardInterrupt",
     "evalue": "",
     "output_type": "error",
     "traceback": [
      "\u001b[0;31m---------------------------------------------------------------------------\u001b[0m",
      "\u001b[0;31mKeyboardInterrupt\u001b[0m                         Traceback (most recent call last)",
      "\u001b[0;32m<ipython-input-44-e19920ac0c05>\u001b[0m in \u001b[0;36m<module>\u001b[0;34m()\u001b[0m\n\u001b[1;32m     10\u001b[0m         \u001b[0;32mprint\u001b[0m \u001b[0;34m'calculating...'\u001b[0m\u001b[0;34m\u001b[0m\u001b[0m\n\u001b[1;32m     11\u001b[0m         \u001b[0mstart\u001b[0m \u001b[0;34m=\u001b[0m \u001b[0mtime\u001b[0m\u001b[0;34m.\u001b[0m\u001b[0mtime\u001b[0m\u001b[0;34m(\u001b[0m\u001b[0;34m)\u001b[0m\u001b[0;34m\u001b[0m\u001b[0m\n\u001b[0;32m---> 12\u001b[0;31m         \u001b[0mtokens\u001b[0m \u001b[0;34m=\u001b[0m \u001b[0mnltk\u001b[0m\u001b[0;34m.\u001b[0m\u001b[0mword_tokenize\u001b[0m\u001b[0;34m(\u001b[0m\u001b[0mfic_text\u001b[0m\u001b[0;34m.\u001b[0m\u001b[0mlower\u001b[0m\u001b[0;34m(\u001b[0m\u001b[0;34m)\u001b[0m\u001b[0;34m)\u001b[0m\u001b[0;34m\u001b[0m\u001b[0m\n\u001b[0m\u001b[1;32m     13\u001b[0m         \u001b[0mtext\u001b[0m \u001b[0;34m=\u001b[0m \u001b[0mnltk\u001b[0m\u001b[0;34m.\u001b[0m\u001b[0mText\u001b[0m\u001b[0;34m(\u001b[0m\u001b[0mtokens\u001b[0m\u001b[0;34m)\u001b[0m\u001b[0;34m\u001b[0m\u001b[0m\n\u001b[1;32m     14\u001b[0m         \u001b[0mtagged\u001b[0m \u001b[0;34m=\u001b[0m \u001b[0mnltk\u001b[0m\u001b[0;34m.\u001b[0m\u001b[0mpos_tag\u001b[0m\u001b[0;34m(\u001b[0m\u001b[0mtext\u001b[0m\u001b[0;34m)\u001b[0m\u001b[0;34m\u001b[0m\u001b[0m\n",
      "\u001b[0;32m/Users/noon/anaconda/lib/python2.7/site-packages/nltk/tokenize/__init__.pyc\u001b[0m in \u001b[0;36mword_tokenize\u001b[0;34m(text, language)\u001b[0m\n\u001b[1;32m    100\u001b[0m     \"\"\"\n\u001b[1;32m    101\u001b[0m     return [token for sent in sent_tokenize(text, language)\n\u001b[0;32m--> 102\u001b[0;31m             for token in _treebank_word_tokenize(sent)]\n\u001b[0m\u001b[1;32m    103\u001b[0m \u001b[0;34m\u001b[0m\u001b[0m\n\u001b[1;32m    104\u001b[0m \u001b[0;32mif\u001b[0m \u001b[0m__name__\u001b[0m \u001b[0;34m==\u001b[0m \u001b[0;34m\"__main__\"\u001b[0m\u001b[0;34m:\u001b[0m\u001b[0;34m\u001b[0m\u001b[0m\n",
      "\u001b[0;32m/Users/noon/anaconda/lib/python2.7/site-packages/nltk/tokenize/treebank.pyc\u001b[0m in \u001b[0;36mtokenize\u001b[0;34m(self, text)\u001b[0m\n\u001b[1;32m     64\u001b[0m \u001b[0;34m\u001b[0m\u001b[0m\n\u001b[1;32m     65\u001b[0m         \u001b[0;31m#punctuation\u001b[0m\u001b[0;34m\u001b[0m\u001b[0;34m\u001b[0m\u001b[0m\n\u001b[0;32m---> 66\u001b[0;31m         \u001b[0mtext\u001b[0m \u001b[0;34m=\u001b[0m \u001b[0mre\u001b[0m\u001b[0;34m.\u001b[0m\u001b[0msub\u001b[0m\u001b[0;34m(\u001b[0m\u001b[0;34mr'([:,])([^\\d])'\u001b[0m\u001b[0;34m,\u001b[0m \u001b[0;34mr' \\1 \\2'\u001b[0m\u001b[0;34m,\u001b[0m \u001b[0mtext\u001b[0m\u001b[0;34m)\u001b[0m\u001b[0;34m\u001b[0m\u001b[0m\n\u001b[0m\u001b[1;32m     67\u001b[0m         \u001b[0mtext\u001b[0m \u001b[0;34m=\u001b[0m \u001b[0mre\u001b[0m\u001b[0;34m.\u001b[0m\u001b[0msub\u001b[0m\u001b[0;34m(\u001b[0m\u001b[0;34mr'\\.\\.\\.'\u001b[0m\u001b[0;34m,\u001b[0m \u001b[0;34mr' ... '\u001b[0m\u001b[0;34m,\u001b[0m \u001b[0mtext\u001b[0m\u001b[0;34m)\u001b[0m\u001b[0;34m\u001b[0m\u001b[0m\n\u001b[1;32m     68\u001b[0m         \u001b[0mtext\u001b[0m \u001b[0;34m=\u001b[0m \u001b[0mre\u001b[0m\u001b[0;34m.\u001b[0m\u001b[0msub\u001b[0m\u001b[0;34m(\u001b[0m\u001b[0;34mr'[;@#$%&]'\u001b[0m\u001b[0;34m,\u001b[0m \u001b[0;34mr' \\g<0> '\u001b[0m\u001b[0;34m,\u001b[0m \u001b[0mtext\u001b[0m\u001b[0;34m)\u001b[0m\u001b[0;34m\u001b[0m\u001b[0m\n",
      "\u001b[0;32m/Users/noon/anaconda/lib/python2.7/re.pyc\u001b[0m in \u001b[0;36msub\u001b[0;34m(pattern, repl, string, count, flags)\u001b[0m\n\u001b[1;32m    153\u001b[0m     \u001b[0ma\u001b[0m \u001b[0mcallable\u001b[0m\u001b[0;34m,\u001b[0m \u001b[0mit\u001b[0m\u001b[0;31m'\u001b[0m\u001b[0ms\u001b[0m \u001b[0mpassed\u001b[0m \u001b[0mthe\u001b[0m \u001b[0mmatch\u001b[0m \u001b[0mobject\u001b[0m \u001b[0;32mand\u001b[0m \u001b[0mmust\u001b[0m \u001b[0;32mreturn\u001b[0m\u001b[0;34m\u001b[0m\u001b[0m\n\u001b[1;32m    154\u001b[0m     a replacement string to be used.\"\"\"\n\u001b[0;32m--> 155\u001b[0;31m     \u001b[0;32mreturn\u001b[0m \u001b[0m_compile\u001b[0m\u001b[0;34m(\u001b[0m\u001b[0mpattern\u001b[0m\u001b[0;34m,\u001b[0m \u001b[0mflags\u001b[0m\u001b[0;34m)\u001b[0m\u001b[0;34m.\u001b[0m\u001b[0msub\u001b[0m\u001b[0;34m(\u001b[0m\u001b[0mrepl\u001b[0m\u001b[0;34m,\u001b[0m \u001b[0mstring\u001b[0m\u001b[0;34m,\u001b[0m \u001b[0mcount\u001b[0m\u001b[0;34m)\u001b[0m\u001b[0;34m\u001b[0m\u001b[0m\n\u001b[0m\u001b[1;32m    156\u001b[0m \u001b[0;34m\u001b[0m\u001b[0m\n\u001b[1;32m    157\u001b[0m \u001b[0;32mdef\u001b[0m \u001b[0msubn\u001b[0m\u001b[0;34m(\u001b[0m\u001b[0mpattern\u001b[0m\u001b[0;34m,\u001b[0m \u001b[0mrepl\u001b[0m\u001b[0;34m,\u001b[0m \u001b[0mstring\u001b[0m\u001b[0;34m,\u001b[0m \u001b[0mcount\u001b[0m\u001b[0;34m=\u001b[0m\u001b[0;36m0\u001b[0m\u001b[0;34m,\u001b[0m \u001b[0mflags\u001b[0m\u001b[0;34m=\u001b[0m\u001b[0;36m0\u001b[0m\u001b[0;34m)\u001b[0m\u001b[0;34m:\u001b[0m\u001b[0;34m\u001b[0m\u001b[0m\n",
      "\u001b[0;31mKeyboardInterrupt\u001b[0m: "
     ]
    }
   ],
   "source": [
    "#get verbs\n",
    "num_verbs = {}\n",
    "for csv_name in csv_names:\n",
    "    print 'working on ', csv_name\n",
    "    fic_text = \"\"\n",
    "    with open(path+csv_name, 'rb') as csvfile:\n",
    "        rd = csv.reader(csvfile, delimiter=',', quotechar='\"')\n",
    "        for row in rd:\n",
    "            fic_text += row[-1]\n",
    "        print 'calculating...'\n",
    "        start = time.time()\n",
    "        tokens = nltk.word_tokenize(fic_text.lower())\n",
    "        text = nltk.Text(tokens)\n",
    "        tagged = nltk.pos_tag(text)\n",
    "        counts = Counter(tag for word,tag in tagged)\n",
    "        print 'counts are ', counts\n",
    "        \n",
    "#         total = sum(counts.values())\n",
    "#         normalized = dict((word, float(count)/total) for word,count in counts.items())\n",
    "\n",
    "#         reading_level = textstat.flesch_kincaid_grade(fic_text)\n",
    "#         print 'reading level is ', reading_level\n",
    "        end = time.time()\n",
    "        dur = end - start\n",
    "        print 'that took' , dur\n",
    " "
   ]
  },
  {
   "cell_type": "code",
   "execution_count": null,
   "metadata": {
    "collapsed": true
   },
   "outputs": [],
   "source": []
  }
 ],
 "metadata": {
  "kernelspec": {
   "display_name": "Python 2",
   "language": "python",
   "name": "python2"
  },
  "language_info": {
   "codemirror_mode": {
    "name": "ipython",
    "version": 2
   },
   "file_extension": ".py",
   "mimetype": "text/x-python",
   "name": "python",
   "nbconvert_exporter": "python",
   "pygments_lexer": "ipython2",
   "version": "2.7.12"
  }
 },
 "nbformat": 4,
 "nbformat_minor": 1
}
